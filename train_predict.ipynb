{
 "cells": [
  {
   "cell_type": "code",
   "execution_count": 83,
   "metadata": {},
   "outputs": [
    {
     "name": "stdout",
     "output_type": "stream",
     "text": [
      "Requirement already satisfied: tslearn in c:\\users\\ryan\\appdata\\local\\packages\\pythonsoftwarefoundation.python.3.11_qbz5n2kfra8p0\\localcache\\local-packages\\python311\\site-packages (0.6.3)\n",
      "Requirement already satisfied: numpy in c:\\users\\ryan\\appdata\\local\\packages\\pythonsoftwarefoundation.python.3.11_qbz5n2kfra8p0\\localcache\\local-packages\\python311\\site-packages (from tslearn) (2.0.1)\n",
      "Requirement already satisfied: scipy in c:\\users\\ryan\\appdata\\local\\packages\\pythonsoftwarefoundation.python.3.11_qbz5n2kfra8p0\\localcache\\local-packages\\python311\\site-packages (from tslearn) (1.15.1)\n",
      "Requirement already satisfied: scikit-learn in c:\\users\\ryan\\appdata\\local\\packages\\pythonsoftwarefoundation.python.3.11_qbz5n2kfra8p0\\localcache\\local-packages\\python311\\site-packages (from tslearn) (1.6.1)\n",
      "Requirement already satisfied: numba in c:\\users\\ryan\\appdata\\local\\packages\\pythonsoftwarefoundation.python.3.11_qbz5n2kfra8p0\\localcache\\local-packages\\python311\\site-packages (from tslearn) (0.61.0)\n",
      "Requirement already satisfied: joblib in c:\\users\\ryan\\appdata\\local\\packages\\pythonsoftwarefoundation.python.3.11_qbz5n2kfra8p0\\localcache\\local-packages\\python311\\site-packages (from tslearn) (1.4.2)\n",
      "Requirement already satisfied: llvmlite<0.45,>=0.44.0dev0 in c:\\users\\ryan\\appdata\\local\\packages\\pythonsoftwarefoundation.python.3.11_qbz5n2kfra8p0\\localcache\\local-packages\\python311\\site-packages (from numba->tslearn) (0.44.0)\n",
      "Requirement already satisfied: threadpoolctl>=3.1.0 in c:\\users\\ryan\\appdata\\local\\packages\\pythonsoftwarefoundation.python.3.11_qbz5n2kfra8p0\\localcache\\local-packages\\python311\\site-packages (from scikit-learn->tslearn) (3.5.0)\n"
     ]
    },
    {
     "name": "stderr",
     "output_type": "stream",
     "text": [
      "\n",
      "[notice] A new release of pip is available: 24.0 -> 25.1.1\n",
      "[notice] To update, run: C:\\Users\\Ryan\\AppData\\Local\\Microsoft\\WindowsApps\\PythonSoftwareFoundation.Python.3.11_qbz5n2kfra8p0\\python.exe -m pip install --upgrade pip\n"
     ]
    },
    {
     "name": "stdout",
     "output_type": "stream",
     "text": [
      "Requirement already satisfied: torch in c:\\users\\ryan\\appdata\\local\\packages\\pythonsoftwarefoundation.python.3.11_qbz5n2kfra8p0\\localcache\\local-packages\\python311\\site-packages (2.6.0)\n",
      "Requirement already satisfied: filelock in c:\\users\\ryan\\appdata\\local\\packages\\pythonsoftwarefoundation.python.3.11_qbz5n2kfra8p0\\localcache\\local-packages\\python311\\site-packages (from torch) (3.17.0)\n",
      "Requirement already satisfied: typing-extensions>=4.10.0 in c:\\users\\ryan\\appdata\\local\\packages\\pythonsoftwarefoundation.python.3.11_qbz5n2kfra8p0\\localcache\\local-packages\\python311\\site-packages (from torch) (4.12.2)\n",
      "Requirement already satisfied: networkx in c:\\users\\ryan\\appdata\\local\\packages\\pythonsoftwarefoundation.python.3.11_qbz5n2kfra8p0\\localcache\\local-packages\\python311\\site-packages (from torch) (3.4.2)\n",
      "Requirement already satisfied: jinja2 in c:\\users\\ryan\\appdata\\local\\packages\\pythonsoftwarefoundation.python.3.11_qbz5n2kfra8p0\\localcache\\local-packages\\python311\\site-packages (from torch) (3.1.5)\n",
      "Requirement already satisfied: fsspec in c:\\users\\ryan\\appdata\\local\\packages\\pythonsoftwarefoundation.python.3.11_qbz5n2kfra8p0\\localcache\\local-packages\\python311\\site-packages (from torch) (2025.2.0)\n",
      "Requirement already satisfied: sympy==1.13.1 in c:\\users\\ryan\\appdata\\local\\packages\\pythonsoftwarefoundation.python.3.11_qbz5n2kfra8p0\\localcache\\local-packages\\python311\\site-packages (from torch) (1.13.1)\n",
      "Requirement already satisfied: mpmath<1.4,>=1.1.0 in c:\\users\\ryan\\appdata\\local\\packages\\pythonsoftwarefoundation.python.3.11_qbz5n2kfra8p0\\localcache\\local-packages\\python311\\site-packages (from sympy==1.13.1->torch) (1.3.0)\n",
      "Requirement already satisfied: MarkupSafe>=2.0 in c:\\users\\ryan\\appdata\\local\\packages\\pythonsoftwarefoundation.python.3.11_qbz5n2kfra8p0\\localcache\\local-packages\\python311\\site-packages (from jinja2->torch) (3.0.2)\n"
     ]
    },
    {
     "name": "stderr",
     "output_type": "stream",
     "text": [
      "\n",
      "[notice] A new release of pip is available: 24.0 -> 25.1.1\n",
      "[notice] To update, run: C:\\Users\\Ryan\\AppData\\Local\\Microsoft\\WindowsApps\\PythonSoftwareFoundation.Python.3.11_qbz5n2kfra8p0\\python.exe -m pip install --upgrade pip\n"
     ]
    }
   ],
   "source": [
    "!pip install tslearn\n",
    "!pip install torch"
   ]
  },
  {
   "cell_type": "code",
   "execution_count": 84,
   "metadata": {},
   "outputs": [],
   "source": [
    "import tslearn\n",
    "import tslearn.datasets as ds\n",
    "import torch.nn as nn\n",
    "import torch.nn.functional as F\n",
    "from torch.utils.data import TensorDataset, DataLoader\n",
    "import numpy as np\n",
    "import copy\n",
    "import matplotlib.pyplot as plt\n",
    "from Models.LAFS import *\n"
   ]
  },
  {
   "cell_type": "code",
   "execution_count": 85,
   "metadata": {},
   "outputs": [],
   "source": [
    "# ds.UCR_UEA_datasets().list_datasets()"
   ]
  },
  {
   "cell_type": "code",
   "execution_count": 86,
   "metadata": {},
   "outputs": [],
   "source": [
    "trainX, trainY, testX, testY = ds.UCR_UEA_datasets().load_dataset(\n",
    "        \"MotorImagery\")"
   ]
  },
  {
   "cell_type": "code",
   "execution_count": 87,
   "metadata": {},
   "outputs": [
    {
     "name": "stdout",
     "output_type": "stream",
     "text": [
      "(278, 3000, 64)\n",
      "(100, 3000, 64)\n",
      "2  Classes\n"
     ]
    }
   ],
   "source": [
    "print(trainX.shape)\n",
    "print(testX.shape)\n",
    "print(len(np.unique(trainY)),\" Classes\")"
   ]
  },
  {
   "cell_type": "code",
   "execution_count": 88,
   "metadata": {},
   "outputs": [],
   "source": [
    "# plt.plot(trainX[0,...,27])"
   ]
  },
  {
   "cell_type": "code",
   "execution_count": 89,
   "metadata": {},
   "outputs": [],
   "source": [
    "def get_mean_std(trainX,dim = (0,1)):  ## normalize across subject and time, for each feature (7)\n",
    "    mean_channel = np.nanmean(trainX,axis = dim, keepdims = True)\n",
    "    std_channel = np.nanstd(trainX,axis = dim,keepdims =True)\n",
    "    return mean_channel,std_channel"
   ]
  },
  {
   "cell_type": "code",
   "execution_count": 90,
   "metadata": {},
   "outputs": [],
   "source": [
    "mean_channel,std_channel = get_mean_std(trainX)\n",
    "trainX = (trainX - mean_channel)/(std_channel + 1e-8)\n",
    "testX = (testX - mean_channel)/(std_channel + 1e-8)"
   ]
  },
  {
   "cell_type": "code",
   "execution_count": 91,
   "metadata": {},
   "outputs": [],
   "source": [
    "## Average Pooling to Reduce and smooth the size of the sequence \n",
    "trainX = torch.tensor(trainX)\n",
    "testX = torch.tensor(testX)\n",
    "\n",
    "trainX = F.avg_pool1d(trainX.permute(0,2,1),10,10).permute(0,2,1)\n",
    "trainX = np.array(trainX.detach())\n",
    "\n",
    "testX = F.avg_pool1d(testX.permute(0,2,1),10,10).permute(0,2,1)\n",
    "testX = np.array(testX.detach())"
   ]
  },
  {
   "cell_type": "code",
   "execution_count": 92,
   "metadata": {},
   "outputs": [
    {
     "name": "stdout",
     "output_type": "stream",
     "text": [
      "{np.str_('finger'): 0, np.str_('tongue'): 1}\n"
     ]
    }
   ],
   "source": [
    "### Label encoding \n",
    "unique_values = np.unique(trainY)\n",
    "unique_values = [i for i in unique_values if i is not np.nan]\n",
    "mapping = {value: idx for idx, value in enumerate(unique_values)}\n",
    "print(mapping)\n",
    "for v in unique_values:\n",
    "\n",
    "    trainY[trainY == v] = mapping[v]\n",
    "    testY[testY ==v] = mapping[v]\n",
    "trainY = np.long(trainY)\n",
    "testY = np.long(testY)"
   ]
  },
  {
   "cell_type": "code",
   "execution_count": 104,
   "metadata": {},
   "outputs": [],
   "source": [
    "## Simple CNN example\n",
    "class SimpleCNN_LAFS(nn.Module):\n",
    "    def __init__(self, input_size,sequence_length,filter_size = 32,kernel_size = 3, depth = 2, n_class = 2, lafs_heads = 4, use_lafs = True):\n",
    "        super(SimpleCNN_LAFS, self).__init__()\n",
    "        self.lafs = LAFS(input_size,sequence_length,k = sequence_length//4, lafs_heads = lafs_heads,attention_heads = 4)\n",
    "        self.depth = depth\n",
    "        self.use_lafs = use_lafs\n",
    "        self.conv_list = nn.ModuleList()\n",
    "        if use_lafs:\n",
    "            self.conv_list.append(nn.Conv1d(lafs_heads,filter_size,kernel_size = kernel_size,padding = 0))\n",
    "        else:\n",
    "            self.conv_list.append(nn.Conv1d(input_size,filter_size,kernel_size = kernel_size,padding = 0))\n",
    "\n",
    "        for d in range(1,depth):\n",
    "            self.conv_list.append(nn.Conv1d(filter_size,filter_size,kernel_size = kernel_size,padding = 0))\n",
    "\n",
    "        self.out = nn.Linear(filter_size, n_class)\n",
    "\n",
    "    def forward(self,x):\n",
    "        \n",
    "        ## Input X should be (Batch size, Time Steps,Features)\n",
    "        if self.use_lafs:\n",
    "            x, weights = self.lafs(x,training = True)\n",
    "        else:\n",
    "            weights = None\n",
    "        x = x.permute(0,2,1)\n",
    "        x = self.conv_list[0](x)\n",
    "        x = torch.relu(x)\n",
    "        for d in range(1,self.depth):\n",
    "            x = self.conv_list[d](x)\n",
    "            x = torch.relu(x)\n",
    "\n",
    "        x,ind = torch.max(x,dim = -1)\n",
    "        x = self.out(x)\n",
    "        return x, weights"
   ]
  },
  {
   "cell_type": "code",
   "execution_count": 94,
   "metadata": {},
   "outputs": [],
   "source": [
    "## Define simple train function \n",
    "\n",
    "def create_data_loaders(X,Y, batch_size = 1, shuffle = False):\n",
    "    X_torch = torch.Tensor(X).float()\n",
    "    Y_torch = torch.Tensor(Y).long()\n",
    "    train = TensorDataset(X_torch,Y_torch) \n",
    "    train_data_loader = DataLoader(train, shuffle=shuffle, batch_size = batch_size) \n",
    "    return train_data_loader\n",
    "\n",
    "def train(model, train_dataloader, test_dataloader, lr = .003, num_epochs = 100,early_stopping = 20):\n",
    "    es = early_stopping\n",
    "    device = torch.device('cuda' if torch.cuda.is_available() else 'cpu')\n",
    "    model.to(device)\n",
    "    optimizer = torch.optim.Adam(model.parameters(), lr=lr)\n",
    "    loss_function = nn.CrossEntropyLoss()\n",
    "    max_val_acc = 0.0\n",
    "    for epoch in range(num_epochs):\n",
    "        model.train()\n",
    "        for i, (x,y) in enumerate(train_dataloader):  \n",
    "            outputs, weights = model(x)\n",
    "            loss = loss_function(outputs,y.long())\n",
    "            loss.backward()\n",
    "            optimizer.step()\n",
    "            optimizer.zero_grad()\n",
    "        model.eval()\n",
    "        val_acc = 0\n",
    "        output_ = torch.zeros((0))\n",
    "        labels_ = torch.zeros((0))\n",
    "        for i, (x,y) in enumerate(test_dataloader):  \n",
    "            outputs, weights = model(x)\n",
    "            outputs = torch.argmax(outputs,dim = -1)\n",
    "            output_ = torch.cat([output_,outputs],axis = 0)\n",
    "            labels_ = torch.cat([labels_,y],axis = 0)\n",
    "        val_acc = len(output_[output_ == labels_])/len(output_)\n",
    "        if (val_acc > max_val_acc):\n",
    "            es = early_stopping\n",
    "            print(\"val accuracy increased from \" + str(max_val_acc) + \" to \" + str(val_acc) + \" at epoch \" + str(epoch) + \". Saving new model.\")\n",
    "            best_model = copy.deepcopy(model)\n",
    "            max_val_acc = val_acc\n",
    "        else:\n",
    "            es = es - 1\n",
    "        if es <=0:\n",
    "            break\n",
    "    return best_model"
   ]
  },
  {
   "cell_type": "code",
   "execution_count": 95,
   "metadata": {},
   "outputs": [
    {
     "name": "stdout",
     "output_type": "stream",
     "text": [
      "val accuracy increased from 0.0 to 0.38 at epoch 0. Saving new model.\n",
      "val accuracy increased from 0.38 to 0.51 at epoch 1. Saving new model.\n",
      "val accuracy increased from 0.51 to 0.53 at epoch 4. Saving new model.\n",
      "val accuracy increased from 0.53 to 0.55 at epoch 10. Saving new model.\n"
     ]
    }
   ],
   "source": [
    "model = SimpleCNN_LAFS(trainX.shape[-1],trainX.shape[1],filter_size = 8,depth = 1,kernel_size=5,n_class = 2,use_lafs = False)\n",
    "train_data_loader, test_data_loader = create_data_loaders(trainX,trainY,batch_size = 4,shuffle = True), create_data_loaders(testX,testY,batch_size = 100)\n",
    "model = train(model, train_data_loader,test_data_loader)"
   ]
  },
  {
   "cell_type": "code",
   "execution_count": 105,
   "metadata": {},
   "outputs": [
    {
     "name": "stdout",
     "output_type": "stream",
     "text": [
      "val accuracy increased from 0.0 to 0.48 at epoch 0. Saving new model.\n",
      "val accuracy increased from 0.48 to 0.62 at epoch 2. Saving new model.\n",
      "val accuracy increased from 0.62 to 0.67 at epoch 13. Saving new model.\n"
     ]
    }
   ],
   "source": [
    "model = SimpleCNN_LAFS(trainX.shape[-1],trainX.shape[1],filter_size = 8,depth = 1,kernel_size=5,n_class = 2,use_lafs = True,lafs_heads = 8)\n",
    "train_data_loader, test_data_loader = create_data_loaders(trainX,trainY,batch_size = 4,shuffle = True), create_data_loaders(testX,testY,batch_size = 100)\n",
    "model = train(model, train_data_loader,test_data_loader)"
   ]
  },
  {
   "cell_type": "code",
   "execution_count": 106,
   "metadata": {},
   "outputs": [],
   "source": [
    "model.eval()\n",
    "pred, weights = model(torch.tensor(testX).float())"
   ]
  },
  {
   "cell_type": "code",
   "execution_count": 107,
   "metadata": {},
   "outputs": [
    {
     "data": {
      "text/plain": [
       "(100, 64)"
      ]
     },
     "execution_count": 107,
     "metadata": {},
     "output_type": "execute_result"
    }
   ],
   "source": [
    "weights = weights.squeeze(1).detach()\n",
    "weights = np.array(weights)\n",
    "weights.shape"
   ]
  },
  {
   "cell_type": "code",
   "execution_count": 108,
   "metadata": {},
   "outputs": [],
   "source": [
    "feature_names = ['EEG Channel ' + str(i) for i in np.arange(0,weights.shape[1]).tolist()]\n",
    "feature_names = np.array(feature_names)"
   ]
  },
  {
   "cell_type": "code",
   "execution_count": 109,
   "metadata": {},
   "outputs": [
    {
     "data": {
      "image/png": "[encoded data removed]",
      "text/plain": [
       "<Figure size 640x480 with 1 Axes>"
      ]
     },
     "metadata": {},
     "output_type": "display_data"
    }
   ],
   "source": [
    "## Global Weights (Only show top 10)\n",
    "topk = 10\n",
    "importances = np.mean(weights,axis = 0)\n",
    "indices = importances.argsort()[::-1]\n",
    "indices = indices[:topk]\n",
    "plt.figure()\n",
    "plt.title(\"Global TS Feature Importances\")\n",
    "plt.bar(range(len(indices)), importances[indices], align=\"center\")\n",
    "plt.xticks(range(len(indices)), feature_names[indices], rotation=90)\n",
    "plt.tight_layout()\n",
    "plt.show()\n"
   ]
  },
  {
   "cell_type": "code",
   "execution_count": 110,
   "metadata": {},
   "outputs": [
    {
     "data": {
      "image/png": "[encoded data removed]",
      "text/plain": [
       "<Figure size 640x480 with 1 Axes>"
      ]
     },
     "metadata": {},
     "output_type": "display_data"
    }
   ],
   "source": [
    "## Local Weights for sample K, (Only show top 10)\n",
    "sample = 10\n",
    "topk = 10\n",
    "importances = weights[sample]\n",
    "indices = importances.argsort()[::-1]\n",
    "indices = indices[:topk]\n",
    "plt.figure()\n",
    "plt.title(\"Local TS Feature Importances for sample \" + str(sample))\n",
    "plt.bar(range(len(indices)), importances[indices], align=\"center\")\n",
    "plt.xticks(range(len(indices)), feature_names[indices], rotation=90)\n",
    "plt.tight_layout()\n",
    "plt.show()"
   ]
  }
 ],
 "metadata": {
  "kernelspec": {
   "display_name": "Python 3",
   "language": "python",
   "name": "python3"
  },
  "language_info": {
   "codemirror_mode": {
    "name": "ipython",
    "version": 3
   },
   "file_extension": ".py",
   "mimetype": "text/x-python",
   "name": "python",
   "nbconvert_exporter": "python",
   "pygments_lexer": "ipython3",
   "version": "3.11.9"
  }
 },
 "nbformat": 4,
 "nbformat_minor": 2
}
